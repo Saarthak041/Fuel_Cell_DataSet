{
  "nbformat": 4,
  "nbformat_minor": 0,
  "metadata": {
    "colab": {
      "provenance": []
    },
    "kernelspec": {
      "name": "python3",
      "display_name": "Python 3"
    },
    "language_info": {
      "name": "python"
    }
  },
  "cells": [
    {
      "cell_type": "code",
      "execution_count": 1,
      "metadata": {
        "id": "ayQvU4QmbTw9"
      },
      "outputs": [],
      "source": [
        "import pandas as pd\n",
        "from sklearn.model_selection import train_test_split\n",
        "from sklearn.linear_model import LinearRegression\n",
        "from sklearn.tree import DecisionTreeRegressor\n",
        "from sklearn.metrics import mean_squared_error, r2_score"
      ]
    },
    {
      "cell_type": "code",
      "source": [
        "data = pd.read_csv('Fuel_cell_performance_data-Full.csv')\n",
        "\n",
        "print(data.columns)"
      ],
      "metadata": {
        "colab": {
          "base_uri": "https://localhost:8080/"
        },
        "id": "5viTHeYRbaQc",
        "outputId": "1cb63620-ff03-4945-cb8b-8d8f7119b0d2"
      },
      "execution_count": 9,
      "outputs": [
        {
          "output_type": "stream",
          "name": "stdout",
          "text": [
            "Index(['F1', 'F2', 'F3', 'F4', 'F5', 'F6', 'F7', 'F8', 'F9', 'F10', 'F11',\n",
            "       'F12', 'F13', 'F14', 'F15', 'Target1', 'Target2', 'Target3', 'Target4',\n",
            "       'Target5'],\n",
            "      dtype='object')\n"
          ]
        }
      ]
    },
    {
      "cell_type": "code",
      "source": [
        "target3_column_name = data.columns[data.columns.str.contains('Target3')][0]"
      ],
      "metadata": {
        "id": "IUVPZv-KbeHG"
      },
      "execution_count": 10,
      "outputs": []
    },
    {
      "cell_type": "code",
      "source": [
        "X = data.drop(columns=[target3_column_name])\n",
        "y = data[target3_column_name]"
      ],
      "metadata": {
        "id": "wVLuXEktbgY_"
      },
      "execution_count": 12,
      "outputs": []
    },
    {
      "cell_type": "code",
      "source": [
        "X_train, X_test, y_train, y_test = train_test_split(X, y, test_size=0.3, random_state=42)"
      ],
      "metadata": {
        "id": "BPi5DLBLbiBa"
      },
      "execution_count": 13,
      "outputs": []
    },
    {
      "cell_type": "code",
      "source": [
        "models = {\n",
        "    'Linear Regression': LinearRegression(),\n",
        "    'Decision Tree': DecisionTreeRegressor(random_state=42)\n",
        "}"
      ],
      "metadata": {
        "id": "XQw8xsrccXmS"
      },
      "execution_count": 14,
      "outputs": []
    },
    {
      "cell_type": "code",
      "source": [
        "results = {}\n",
        "for model_name, model in models.items():\n",
        "    # Train the model\n",
        "    model.fit(X_train, y_train)\n",
        "\n",
        "    # Predict on the test set\n",
        "    y_pred = model.predict(X_test)\n",
        "\n",
        "    # Evaluate the model\n",
        "    mse = mean_squared_error(y_test, y_pred)\n",
        "    r2 = r2_score(y_test, y_pred)\n",
        "\n",
        "    # Store the results\n",
        "    results[model_name] = {'MSE': mse, 'R2 Score': r2}\n"
      ],
      "metadata": {
        "id": "KjMqZ-CHcbY6"
      },
      "execution_count": 15,
      "outputs": []
    },
    {
      "cell_type": "code",
      "source": [
        "for model_name, metrics in results.items():\n",
        "    print(f\"Model: {model_name}\")\n",
        "    print(f\"  Mean Squared Error: {metrics['MSE']}\")\n",
        "    print(f\"  R2 Score: {metrics['R2 Score']}\")\n",
        "\n",
        "# Save results to a CSV file\n",
        "results_df = pd.DataFrame(results).T\n",
        "results_df.to_csv('model_results.csv', index=True)"
      ],
      "metadata": {
        "colab": {
          "base_uri": "https://localhost:8080/"
        },
        "id": "-2rEsJioceGj",
        "outputId": "db262050-ce4d-430d-99e7-adad4a1a5a78"
      },
      "execution_count": 16,
      "outputs": [
        {
          "output_type": "stream",
          "name": "stdout",
          "text": [
            "Model: Linear Regression\n",
            "  Mean Squared Error: 3.54825587042389\n",
            "  R2 Score: 0.8789444226854977\n",
            "Model: Decision Tree\n",
            "  Mean Squared Error: 5.8246333333333355\n",
            "  R2 Score: 0.8012814248574114\n"
          ]
        }
      ]
    },
    {
      "cell_type": "code",
      "source": [],
      "metadata": {
        "id": "JlZNZ8VIcgH2"
      },
      "execution_count": null,
      "outputs": []
    }
  ]
}